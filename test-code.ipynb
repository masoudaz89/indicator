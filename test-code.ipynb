{
 "cells": [
  {
   "cell_type": "code",
   "execution_count": 5,
   "id": "5a418719",
   "metadata": {
    "scrolled": true
   },
   "outputs": [
    {
     "name": "stdout",
     "output_type": "stream",
     "text": [
      "Collecting stock_indicators\n",
      "  Obtaining dependency information for stock_indicators from https://files.pythonhosted.org/packages/85/bb/4c94d8ff0b455e4b7bab9dac7182e2f5612e5acde225ebf25ffcc7d5c9c3/stock_indicators-1.2.0-py3-none-any.whl.metadata\n",
      "  Downloading stock_indicators-1.2.0-py3-none-any.whl.metadata (4.5 kB)\n",
      "Collecting pythonnet>=3.0.0 (from stock_indicators)\n",
      "  Obtaining dependency information for pythonnet>=3.0.0 from https://files.pythonhosted.org/packages/12/28/2ecca48b313c436eb0b194b74b5a70dd88f2700d79bce5424799ffc82ede/pythonnet-3.0.3-py3-none-any.whl.metadata\n",
      "  Downloading pythonnet-3.0.3-py3-none-any.whl.metadata (6.6 kB)\n",
      "Requirement already satisfied: typing-extensions>=4.0.0 in c:\\users\\matech\\anaconda3\\lib\\site-packages (from stock_indicators) (4.7.1)\n",
      "Collecting clr-loader<0.3.0,>=0.2.6 (from pythonnet>=3.0.0->stock_indicators)\n",
      "  Obtaining dependency information for clr-loader<0.3.0,>=0.2.6 from https://files.pythonhosted.org/packages/b3/1a/2801c4e3888aac8fcd4d88d32a1155a778d1c01ca040ae8137d433a39cc6/clr_loader-0.2.6-py3-none-any.whl.metadata\n",
      "  Downloading clr_loader-0.2.6-py3-none-any.whl.metadata (1.4 kB)\n",
      "Requirement already satisfied: cffi>=1.13 in c:\\users\\matech\\anaconda3\\lib\\site-packages (from clr-loader<0.3.0,>=0.2.6->pythonnet>=3.0.0->stock_indicators) (1.15.1)\n",
      "Requirement already satisfied: pycparser in c:\\users\\matech\\anaconda3\\lib\\site-packages (from cffi>=1.13->clr-loader<0.3.0,>=0.2.6->pythonnet>=3.0.0->stock_indicators) (2.21)\n",
      "Using cached stock_indicators-1.2.0-py3-none-any.whl (179 kB)\n",
      "Using cached pythonnet-3.0.3-py3-none-any.whl (290 kB)\n",
      "Using cached clr_loader-0.2.6-py3-none-any.whl (51 kB)\n",
      "Installing collected packages: clr-loader, pythonnet, stock_indicators\n",
      "Successfully installed clr-loader-0.2.6 pythonnet-3.0.3 stock_indicators-1.2.0\n"
     ]
    }
   ],
   "source": [
    "\n",
    "import yfinance as yf\n",
    "# import matplotlib.pyplot as plt\n",
    "import pandas as pd\n",
    "import numpy as np\n",
    "!pip install stock_indicators\n",
    "import  stock_indicators"
   ]
  },
  {
   "cell_type": "code",
   "execution_count": 6,
   "id": "6226dff2",
   "metadata": {},
   "outputs": [],
   "source": [
    "df = pd.read_csv('C:/Users/matech/Desktop/downloads.csv', parse_dates=['Date'])"
   ]
  },
  {
   "cell_type": "code",
   "execution_count": 11,
   "id": "9c64e728",
   "metadata": {},
   "outputs": [
    {
     "ename": "FormatException",
     "evalue": "The input string '161.6300048828125' was not in a correct format.\r\n   at System.Number.ThrowFormatException[TChar](ReadOnlySpan`1 value)\r\n   at System.Number.ParseDecimal[TChar](ReadOnlySpan`1 value, NumberStyles styles, NumberFormatInfo info)\r\n   at System.Decimal.Parse(String s)\r\n   at System.RuntimeMethodHandle.InvokeMethod(Object target, Void** arguments, Signature sig, Boolean isConstructor)\r\n   at System.Reflection.MethodBaseInvoker.InvokeDirectByRefWithFewArgs(Object obj, Span`1 copyOfArgs, BindingFlags invokeAttr)",
     "output_type": "error",
     "traceback": [
      "\u001b[1;31m---------------------------------------------------------------------------\u001b[0m",
      "\u001b[1;31mFormatException\u001b[0m                           Traceback (most recent call last)",
      "Cell \u001b[1;32mIn[11], line 3\u001b[0m\n\u001b[0;32m      1\u001b[0m \u001b[38;5;28;01mfrom\u001b[39;00m \u001b[38;5;21;01mstock_indicators\u001b[39;00m \u001b[38;5;28;01mimport\u001b[39;00m Quote\n\u001b[1;32m----> 3\u001b[0m quotes \u001b[38;5;241m=\u001b[39m [ \n\u001b[0;32m      4\u001b[0m   Quote(date, \u001b[38;5;28mopen\u001b[39m, high, low, close, volume) \n\u001b[0;32m      5\u001b[0m     \u001b[38;5;28;01mfor\u001b[39;00m date, \u001b[38;5;28mopen\u001b[39m, high, low, close, volume \n\u001b[0;32m      6\u001b[0m     \u001b[38;5;129;01min\u001b[39;00m \u001b[38;5;28mzip\u001b[39m(df[\u001b[38;5;124m\"\u001b[39m\u001b[38;5;124mDate\u001b[39m\u001b[38;5;124m\"\u001b[39m],df[\u001b[38;5;124m'\u001b[39m\u001b[38;5;124mOpen\u001b[39m\u001b[38;5;124m'\u001b[39m],df[\u001b[38;5;124m'\u001b[39m\u001b[38;5;124mHigh\u001b[39m\u001b[38;5;124m'\u001b[39m],df[\u001b[38;5;124m'\u001b[39m\u001b[38;5;124mLow\u001b[39m\u001b[38;5;124m'\u001b[39m],df[\u001b[38;5;124m'\u001b[39m\u001b[38;5;124mClose\u001b[39m\u001b[38;5;124m'\u001b[39m],df[\u001b[38;5;124m'\u001b[39m\u001b[38;5;124mVolume\u001b[39m\u001b[38;5;124m'\u001b[39m],strict\u001b[38;5;241m=\u001b[39m\u001b[38;5;28;01mTrue\u001b[39;00m)]\n",
      "Cell \u001b[1;32mIn[11], line 4\u001b[0m, in \u001b[0;36m<listcomp>\u001b[1;34m(.0)\u001b[0m\n\u001b[0;32m      1\u001b[0m \u001b[38;5;28;01mfrom\u001b[39;00m \u001b[38;5;21;01mstock_indicators\u001b[39;00m \u001b[38;5;28;01mimport\u001b[39;00m Quote\n\u001b[0;32m      3\u001b[0m quotes \u001b[38;5;241m=\u001b[39m [ \n\u001b[1;32m----> 4\u001b[0m   Quote(date, \u001b[38;5;28mopen\u001b[39m, high, low, close, volume) \n\u001b[0;32m      5\u001b[0m     \u001b[38;5;28;01mfor\u001b[39;00m date, \u001b[38;5;28mopen\u001b[39m, high, low, close, volume \n\u001b[0;32m      6\u001b[0m     \u001b[38;5;129;01min\u001b[39;00m \u001b[38;5;28mzip\u001b[39m(df[\u001b[38;5;124m\"\u001b[39m\u001b[38;5;124mDate\u001b[39m\u001b[38;5;124m\"\u001b[39m],df[\u001b[38;5;124m'\u001b[39m\u001b[38;5;124mOpen\u001b[39m\u001b[38;5;124m'\u001b[39m],df[\u001b[38;5;124m'\u001b[39m\u001b[38;5;124mHigh\u001b[39m\u001b[38;5;124m'\u001b[39m],df[\u001b[38;5;124m'\u001b[39m\u001b[38;5;124mLow\u001b[39m\u001b[38;5;124m'\u001b[39m],df[\u001b[38;5;124m'\u001b[39m\u001b[38;5;124mClose\u001b[39m\u001b[38;5;124m'\u001b[39m],df[\u001b[38;5;124m'\u001b[39m\u001b[38;5;124mVolume\u001b[39m\u001b[38;5;124m'\u001b[39m],strict\u001b[38;5;241m=\u001b[39m\u001b[38;5;28;01mTrue\u001b[39;00m)]\n",
      "File \u001b[1;32m~\\anaconda3\\Lib\\site-packages\\stock_indicators\\indicators\\common\\quote.py:62\u001b[0m, in \u001b[0;36m_Quote.__init__\u001b[1;34m(self, date, open, high, low, close, volume)\u001b[0m\n\u001b[0;32m     60\u001b[0m \u001b[38;5;28;01mdef\u001b[39;00m \u001b[38;5;21m__init__\u001b[39m(\u001b[38;5;28mself\u001b[39m, date, \u001b[38;5;28mopen\u001b[39m \u001b[38;5;241m=\u001b[39m \u001b[38;5;28;01mNone\u001b[39;00m, high \u001b[38;5;241m=\u001b[39m \u001b[38;5;28;01mNone\u001b[39;00m, low \u001b[38;5;241m=\u001b[39m \u001b[38;5;28;01mNone\u001b[39;00m, close \u001b[38;5;241m=\u001b[39m \u001b[38;5;28;01mNone\u001b[39;00m, volume \u001b[38;5;241m=\u001b[39m \u001b[38;5;28;01mNone\u001b[39;00m):\n\u001b[0;32m     61\u001b[0m     \u001b[38;5;28mself\u001b[39m\u001b[38;5;241m.\u001b[39mdate \u001b[38;5;241m=\u001b[39m date\n\u001b[1;32m---> 62\u001b[0m     \u001b[38;5;28mself\u001b[39m\u001b[38;5;241m.\u001b[39mopen: Decimal \u001b[38;5;241m=\u001b[39m \u001b[38;5;28mopen\u001b[39m \u001b[38;5;28;01mif\u001b[39;00m \u001b[38;5;28mopen\u001b[39m \u001b[38;5;28;01melse\u001b[39;00m \u001b[38;5;241m0\u001b[39m\n\u001b[0;32m     63\u001b[0m     \u001b[38;5;28mself\u001b[39m\u001b[38;5;241m.\u001b[39mhigh: Decimal \u001b[38;5;241m=\u001b[39m high \u001b[38;5;28;01mif\u001b[39;00m high \u001b[38;5;28;01melse\u001b[39;00m \u001b[38;5;241m0\u001b[39m\n\u001b[0;32m     64\u001b[0m     \u001b[38;5;28mself\u001b[39m\u001b[38;5;241m.\u001b[39mlow: Decimal \u001b[38;5;241m=\u001b[39m low \u001b[38;5;28;01mif\u001b[39;00m low \u001b[38;5;28;01melse\u001b[39;00m \u001b[38;5;241m0\u001b[39m\n",
      "File \u001b[1;32m~\\anaconda3\\Lib\\site-packages\\stock_indicators\\indicators\\common\\quote.py:25\u001b[0m, in \u001b[0;36m_set_open\u001b[1;34m(quote, value)\u001b[0m\n\u001b[0;32m     24\u001b[0m \u001b[38;5;28;01mdef\u001b[39;00m \u001b[38;5;21m_set_open\u001b[39m(quote, value):\n\u001b[1;32m---> 25\u001b[0m     quote\u001b[38;5;241m.\u001b[39mOpen \u001b[38;5;241m=\u001b[39m CsDecimal(value)\n",
      "File \u001b[1;32m~\\anaconda3\\Lib\\site-packages\\stock_indicators\\_cstypes\\decimal.py:21\u001b[0m, in \u001b[0;36mDecimal.__new__\u001b[1;34m(cls, decimal)\u001b[0m\n\u001b[0;32m     20\u001b[0m \u001b[38;5;28;01mdef\u001b[39;00m \u001b[38;5;21m__new__\u001b[39m(\u001b[38;5;28mcls\u001b[39m, decimal) \u001b[38;5;241m-\u001b[39m\u001b[38;5;241m>\u001b[39m CsDecimal:\n\u001b[1;32m---> 21\u001b[0m     \u001b[38;5;28;01mreturn\u001b[39;00m CsDecimal\u001b[38;5;241m.\u001b[39mParse(\u001b[38;5;28mstr\u001b[39m(decimal))\n",
      "\u001b[1;31mFormatException\u001b[0m: The input string '161.6300048828125' was not in a correct format.\r\n   at System.Number.ThrowFormatException[TChar](ReadOnlySpan`1 value)\r\n   at System.Number.ParseDecimal[TChar](ReadOnlySpan`1 value, NumberStyles styles, NumberFormatInfo info)\r\n   at System.Decimal.Parse(String s)\r\n   at System.RuntimeMethodHandle.InvokeMethod(Object target, Void** arguments, Signature sig, Boolean isConstructor)\r\n   at System.Reflection.MethodBaseInvoker.InvokeDirectByRefWithFewArgs(Object obj, Span`1 copyOfArgs, BindingFlags invokeAttr)"
     ]
    }
   ],
   "source": [
    "from stock_indicators import Quote\n",
    "\n",
    "quotes = [ \n",
    "  Quote(date, open, high, low, close, volume) \n",
    "    for date, open, high, low, close, volume \n",
    "    in zip(df[\"Date\"],df['Open'],df['High'],df['Low'],df['Close'],df['Volume'],strict=True)]"
   ]
  }
 ],
 "metadata": {
  "kernelspec": {
   "display_name": "Python 3 (ipykernel)",
   "language": "python",
   "name": "python3"
  },
  "language_info": {
   "codemirror_mode": {
    "name": "ipython",
    "version": 3
   },
   "file_extension": ".py",
   "mimetype": "text/x-python",
   "name": "python",
   "nbconvert_exporter": "python",
   "pygments_lexer": "ipython3",
   "version": "3.11.5"
  }
 },
 "nbformat": 4,
 "nbformat_minor": 5
}
